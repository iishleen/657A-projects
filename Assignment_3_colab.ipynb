{
 "cells": [
  {
   "cell_type": "code",
   "execution_count": 2,
   "id": "96d667a6",
   "metadata": {
    "id": "96d667a6"
   },
   "outputs": [],
   "source": [
    "import keras\n",
    "import numpy as np\n",
    "import pandas as pd \n",
    "from keras.datasets import mnist\n",
    "from keras.models import Sequential\n",
    "from keras.layers import Dense, Dropout, Flatten\n",
    "from keras.layers import Conv2D, MaxPooling2D\n",
    "from keras.layers import BatchNormalization\n",
    "from keras.utils import np_utils\n",
    "from keras.models import load_model\n",
    "from keras.utils.np_utils import to_categorical\n",
    "import tensorflow as tf\n",
    "import matplotlib.pyplot as plt"
   ]
  },
  {
   "cell_type": "code",
   "execution_count": 3,
   "id": "LlJEdLuglplJ",
   "metadata": {
    "id": "LlJEdLuglplJ"
   },
   "outputs": [
    {
     "ename": "ModuleNotFoundError",
     "evalue": "No module named 'google.colab'",
     "output_type": "error",
     "traceback": [
      "\u001b[1;31m---------------------------------------------------------------------------\u001b[0m",
      "\u001b[1;31mModuleNotFoundError\u001b[0m                       Traceback (most recent call last)",
      "\u001b[1;32m<ipython-input-3-21dc3c638f66>\u001b[0m in \u001b[0;36m<module>\u001b[1;34m\u001b[0m\n\u001b[1;32m----> 1\u001b[1;33m \u001b[1;32mfrom\u001b[0m \u001b[0mgoogle\u001b[0m\u001b[1;33m.\u001b[0m\u001b[0mcolab\u001b[0m \u001b[1;32mimport\u001b[0m \u001b[0mfiles\u001b[0m\u001b[1;33m\u001b[0m\u001b[1;33m\u001b[0m\u001b[0m\n\u001b[0m\u001b[0;32m      2\u001b[0m \u001b[0muploaded\u001b[0m \u001b[1;33m=\u001b[0m \u001b[0mfiles\u001b[0m\u001b[1;33m.\u001b[0m\u001b[0mupload\u001b[0m\u001b[1;33m(\u001b[0m\u001b[1;33m)\u001b[0m\u001b[1;33m\u001b[0m\u001b[1;33m\u001b[0m\u001b[0m\n",
      "\u001b[1;31mModuleNotFoundError\u001b[0m: No module named 'google.colab'"
     ]
    }
   ],
   "source": [
    "from google.colab import files\n",
    "uploaded = files.upload()"
   ]
  },
  {
   "cell_type": "code",
   "execution_count": 4,
   "id": "ZFDggOEwLBQl",
   "metadata": {
    "id": "ZFDggOEwLBQl"
   },
   "outputs": [],
   "source": [
    "testX = pd.read_csv('x_test.csv')\n",
    "testy = pd.read_csv('y_test.csv')\n",
    "trainX = pd.read_csv('x_train.csv')\n",
    "trainy = pd.read_csv('y_train.csv')"
   ]
  },
  {
   "cell_type": "code",
   "execution_count": 5,
   "id": "Semr2MKHC3Xh",
   "metadata": {
    "id": "Semr2MKHC3Xh"
   },
   "outputs": [
    {
     "data": {
      "text/plain": [
       "Index(['0', '1', '2', '3', '4', '5', '6', '7', '8', '9',\n",
       "       ...\n",
       "       '774', '775', '776', '777', '778', '779', '780', '781', '782', '783'],\n",
       "      dtype='object', length=784)"
      ]
     },
     "execution_count": 5,
     "metadata": {},
     "output_type": "execute_result"
    }
   ],
   "source": [
    "trainX.columns"
   ]
  },
  {
   "cell_type": "code",
   "execution_count": 6,
   "id": "dcdd0af9",
   "metadata": {
    "id": "dcdd0af9"
   },
   "outputs": [],
   "source": [
    "#importing the datasets\n",
    "# testX = pd.read_csv('x_test.csv')\n",
    "# testy = pd.read_csv('y_test.csv')\n",
    "# trainX = pd.read_csv('x_train.csv')\n",
    "# trainy = pd.read_csv('y_train.csv')\n",
    "# trainy"
   ]
  },
  {
   "cell_type": "code",
   "execution_count": 7,
   "id": "01edc6b3",
   "metadata": {
    "id": "01edc6b3"
   },
   "outputs": [],
   "source": [
    "trainy.set_axis([\"Label\"],axis=1,inplace=True)"
   ]
  },
  {
   "cell_type": "code",
   "execution_count": 8,
   "id": "2c59883a",
   "metadata": {
    "id": "2c59883a"
   },
   "outputs": [
    {
     "data": {
      "text/plain": [
       "array([4, 0, 2, 3, 1], dtype=int64)"
      ]
     },
     "execution_count": 8,
     "metadata": {},
     "output_type": "execute_result"
    }
   ],
   "source": [
    "trainy[\"Label\"].unique()"
   ]
  },
  {
   "cell_type": "code",
   "execution_count": 9,
   "id": "8f3cbd43",
   "metadata": {
    "id": "8f3cbd43"
   },
   "outputs": [
    {
     "name": "stdout",
     "output_type": "stream",
     "text": [
      "x_train: (60000, 28, 28, 1)\n",
      "x_test: (10000, 28, 28, 1)\n"
     ]
    }
   ],
   "source": [
    "# Reshaping x_train into 28*28 and setting channels=1.\n",
    "trainX = trainX.values.reshape((trainX.shape[0], 28, 28, 1))\n",
    "testX = testX.values.reshape((testX.shape[0], 28, 28, 1))\n",
    "print('x_train:', trainX.shape)\n",
    "print('x_test:', testX.shape)"
   ]
  },
  {
   "cell_type": "code",
   "execution_count": 10,
   "id": "cc67533c",
   "metadata": {
    "id": "cc67533c"
   },
   "outputs": [],
   "source": [
    "#prepare the pixel values by first converting the x_train and x_test into float type\n",
    "#and then rescaling them between 0 and 1 by dividing them by 255\n",
    "trainX = trainX.astype(\"float32\")/255\n",
    "testX = testX.astype(\"float32\")/255"
   ]
  },
  {
   "cell_type": "code",
   "execution_count": 11,
   "id": "026c2744",
   "metadata": {
    "id": "026c2744"
   },
   "outputs": [
    {
     "data": {
      "image/png": "[encoded data removed]",
      "text/plain": [
       "<Figure size 432x288 with 1 Axes>"
      ]
     },
     "metadata": {
      "needs_background": "light"
     },
     "output_type": "display_data"
    }
   ],
   "source": [
    "imgtest = trainX[1].reshape((28,28))\n",
    "plt.imshow(imgtest)\n",
    "plt.show()"
   ]
  },
  {
   "cell_type": "markdown",
   "id": "a9463f32",
   "metadata": {
    "id": "a9463f32"
   },
   "source": [
    "# CM1"
   ]
  },
  {
   "cell_type": "code",
   "execution_count": 12,
   "id": "0870de29",
   "metadata": {
    "id": "0870de29"
   },
   "outputs": [],
   "source": [
    "model = Sequential()\n",
    "model.add(Conv2D(32, (3, 3), padding='same', strides=(1, 1), activation='relu', kernel_initializer='he_uniform', input_shape=(28, 28, 1)))\n",
    "model.add(MaxPooling2D((2, 2)))\n",
    "model.add(Conv2D(32, (3, 3), padding='same', strides=(1, 1), activation='relu', kernel_initializer='he_uniform', input_shape=(28, 28, 1)))\n",
    "model.add(Flatten())\n",
    "model.add(Dense(5, activation='softmax'))"
   ]
  },
  {
   "cell_type": "code",
   "execution_count": 13,
   "id": "744944ea",
   "metadata": {
    "id": "744944ea"
   },
   "outputs": [],
   "source": [
    "# compile model\n",
    "model.compile(optimizer='adam', loss=\"sparse_categorical_crossentropy\",metrics=['accuracy'])"
   ]
  },
  {
   "cell_type": "code",
   "execution_count": 15,
   "id": "3ca91378",
   "metadata": {
    "id": "3ca91378"
   },
   "outputs": [
    {
     "name": "stdout",
     "output_type": "stream",
     "text": [
      "Epoch 1/12\n",
      "1500/1500 - 21s - loss: 0.1462 - accuracy: 0.9482 - val_loss: 0.1891 - val_accuracy: 0.9318 - 21s/epoch - 14ms/step\n",
      "Epoch 2/12\n",
      "1500/1500 - 20s - loss: 0.1287 - accuracy: 0.9545 - val_loss: 0.2004 - val_accuracy: 0.9323 - 20s/epoch - 13ms/step\n",
      "Epoch 3/12\n",
      "1500/1500 - 21s - loss: 0.1154 - accuracy: 0.9594 - val_loss: 0.1920 - val_accuracy: 0.9315 - 21s/epoch - 14ms/step\n",
      "Epoch 4/12\n",
      "1500/1500 - 20s - loss: 0.1034 - accuracy: 0.9630 - val_loss: 0.1910 - val_accuracy: 0.9366 - 20s/epoch - 13ms/step\n",
      "Epoch 5/12\n",
      "1500/1500 - 20s - loss: 0.0938 - accuracy: 0.9672 - val_loss: 0.2016 - val_accuracy: 0.9342 - 20s/epoch - 13ms/step\n",
      "Epoch 6/12\n",
      "1500/1500 - 20s - loss: 0.0839 - accuracy: 0.9704 - val_loss: 0.2089 - val_accuracy: 0.9318 - 20s/epoch - 14ms/step\n",
      "Epoch 7/12\n",
      "1500/1500 - 20s - loss: 0.0776 - accuracy: 0.9731 - val_loss: 0.2220 - val_accuracy: 0.9331 - 20s/epoch - 13ms/step\n",
      "Epoch 8/12\n",
      "1500/1500 - 22s - loss: 0.0692 - accuracy: 0.9760 - val_loss: 0.2530 - val_accuracy: 0.9279 - 22s/epoch - 15ms/step\n",
      "Epoch 9/12\n",
      "1500/1500 - 20s - loss: 0.0645 - accuracy: 0.9778 - val_loss: 0.2355 - val_accuracy: 0.9285 - 20s/epoch - 13ms/step\n",
      "Epoch 10/12\n",
      "1500/1500 - 21s - loss: 0.0591 - accuracy: 0.9789 - val_loss: 0.2445 - val_accuracy: 0.9314 - 21s/epoch - 14ms/step\n",
      "Epoch 11/12\n",
      "1500/1500 - 21s - loss: 0.0531 - accuracy: 0.9817 - val_loss: 0.2747 - val_accuracy: 0.9296 - 21s/epoch - 14ms/step\n",
      "Epoch 12/12\n",
      "1500/1500 - 20s - loss: 0.0523 - accuracy: 0.9812 - val_loss: 0.2743 - val_accuracy: 0.9249 - 20s/epoch - 13ms/step\n",
      "Model: \"sequential\"\n",
      "_________________________________________________________________\n",
      " Layer (type)                Output Shape              Param #   \n",
      "=================================================================\n",
      " conv2d (Conv2D)             (None, 28, 28, 32)        320       \n",
      "                                                                 \n",
      " max_pooling2d (MaxPooling2D  (None, 14, 14, 32)       0         \n",
      " )                                                               \n",
      "                                                                 \n",
      " conv2d_1 (Conv2D)           (None, 14, 14, 32)        9248      \n",
      "                                                                 \n",
      " flatten (Flatten)           (None, 6272)              0         \n",
      "                                                                 \n",
      " dense (Dense)               (None, 5)                 31365     \n",
      "                                                                 \n",
      "=================================================================\n",
      "Total params: 40,933\n",
      "Trainable params: 40,933\n",
      "Non-trainable params: 0\n",
      "_________________________________________________________________\n"
     ]
    }
   ],
   "source": [
    "hist=model.fit(trainX, trainy, validation_split=0.20, epochs=12, verbose=1)\n",
    "model.summary()"
   ]
  },
  {
   "cell_type": "code",
   "execution_count": 61,
   "id": "5e0f1fe0",
   "metadata": {
    "id": "5e0f1fe0"
   },
   "outputs": [
    {
     "name": "stdout",
     "output_type": "stream",
     "text": [
      "313/313 - 2s - loss: 0.2743 - accuracy: 0.9249 - 2s/epoch - 6ms/step\n",
      "Test accuracy:  0.9248999953269958\n"
     ]
    }
   ],
   "source": [
    "test_loss, test_acc = model.evaluate(testX, testy, verbose=1)\n",
    "print(\"Test accuracy: \", test_acc)\n",
    "test_acc_1Conv2D_Simple = test_acc\n",
    "test_loss_1Conv2D_Simple = test_loss"
   ]
  },
  {
   "cell_type": "code",
   "execution_count": 70,
   "id": "8683664b",
   "metadata": {},
   "outputs": [
    {
     "data": {
      "image/png": "[encoded data removed]",
      "text/plain": [
       "<Figure size 432x288 with 1 Axes>"
      ]
     },
     "metadata": {
      "needs_background": "light"
     },
     "output_type": "display_data"
    },
    {
     "data": {
      "image/png": "[encoded data removed]",
      "text/plain": [
       "<Figure size 432x288 with 1 Axes>"
      ]
     },
     "metadata": {
      "needs_background": "light"
     },
     "output_type": "display_data"
    }
   ],
   "source": [
    "# summarize history for accuracy\n",
    "plt.plot(hist.history['accuracy'])\n",
    "plt.plot(hist.history['val_accuracy'])\n",
    "plt.ylim(0.5,1)\n",
    "plt.title('Model Accuracy for default network')\n",
    "plt.ylabel('Accuracy')\n",
    "plt.xlabel('Epoch')\n",
    "plt.legend(['Train', 'Validation'], loc='upper left')\n",
    "plt.show()\n",
    "# summarize history for loss\n",
    "plt.plot(hist.history['loss'])\n",
    "plt.plot(hist.history['val_loss'])\n",
    "plt.ylim(0,0.8)\n",
    "plt.title('Model Loss for default network')\n",
    "plt.ylabel('Loss')\n",
    "plt.xlabel('Epoch')\n",
    "#plt.ylim(0,1)\n",
    "plt.legend(['Train', 'Validation'], loc='upper left')\n",
    "plt.show()\n"
   ]
  },
  {
   "cell_type": "markdown",
   "id": "b23d4167",
   "metadata": {
    "id": "b23d4167"
   },
   "source": [
    "# CM2"
   ]
  },
  {
   "cell_type": "code",
   "execution_count": 65,
   "id": "4409f201",
   "metadata": {
    "id": "4409f201"
   },
   "outputs": [],
   "source": [
    "model2 = Sequential()\n",
    "model2.add(Conv2D(32, (3,3), activation='relu', input_shape=(28, 28, 1), strides=(1, 1), padding='same'))\n",
    "model2.add(MaxPooling2D((2,2)))\n",
    "model2.add(Conv2D(128, (3,3), activation='relu', input_shape=(28, 28, 1), strides=(1,1)))\n",
    "model2.add(Dropout(0.5))\n",
    "model2.add(BatchNormalization())\n",
    "model2.add(Conv2D(64, (3, 3), activation='relu', padding='same', strides=(1,1)))\n",
    "model2.add(BatchNormalization())\n",
    "model2.add(MaxPooling2D((2,2)))\n",
    "model2.add(Dropout(0.5))  \n",
    "model2.add(Flatten())\n",
    "model2.add(Dense(64, activation='relu'))   \n",
    "model2.add(Dense(5, activation='softmax'))"
   ]
  },
  {
   "cell_type": "code",
   "execution_count": 24,
   "id": "3c69bad5",
   "metadata": {
    "id": "3c69bad5"
   },
   "outputs": [
    {
     "name": "stdout",
     "output_type": "stream",
     "text": [
      "Model: \"sequential_2\"\n",
      "____________________________________________________________________________________________________\n",
      " Layer (type)                                Output Shape                            Param #        \n",
      "====================================================================================================\n",
      " conv2d_5 (Conv2D)                           (None, 28, 28, 32)                      320            \n",
      "                                                                                                    \n",
      " conv2d_6 (Conv2D)                           (None, 26, 26, 128)                     36992          \n",
      "                                                                                                    \n",
      " max_pooling2d_3 (MaxPooling2D)              (None, 13, 13, 128)                     0              \n",
      "                                                                                                    \n",
      " batch_normalization_2 (BatchNormalization)  (None, 13, 13, 128)                     512            \n",
      "                                                                                                    \n",
      " dropout_2 (Dropout)                         (None, 13, 13, 128)                     0              \n",
      "                                                                                                    \n",
      " conv2d_7 (Conv2D)                           (None, 13, 13, 64)                      73792          \n",
      "                                                                                                    \n",
      " max_pooling2d_4 (MaxPooling2D)              (None, 6, 6, 64)                        0              \n",
      "                                                                                                    \n",
      " batch_normalization_3 (BatchNormalization)  (None, 6, 6, 64)                        256            \n",
      "                                                                                                    \n",
      " dropout_3 (Dropout)                         (None, 6, 6, 64)                        0              \n",
      "                                                                                                    \n",
      " flatten_2 (Flatten)                         (None, 2304)                            0              \n",
      "                                                                                                    \n",
      " dense_3 (Dense)                             (None, 64)                              147520         \n",
      "                                                                                                    \n",
      " dense_4 (Dense)                             (None, 5)                               325            \n",
      "                                                                                                    \n",
      "====================================================================================================\n",
      "Total params: 259,717\n",
      "Trainable params: 259,333\n",
      "Non-trainable params: 384\n",
      "____________________________________________________________________________________________________\n"
     ]
    }
   ],
   "source": [
    "model2.summary(line_length = 100)"
   ]
  },
  {
   "cell_type": "code",
   "execution_count": 25,
   "id": "d23310ad",
   "metadata": {
    "id": "d23310ad"
   },
   "outputs": [],
   "source": [
    "model2.compile(optimizer='adam', loss=\"sparse_categorical_crossentropy\", metrics=['accuracy'])"
   ]
  },
  {
   "cell_type": "code",
   "execution_count": 26,
   "id": "bf9c8f1f",
   "metadata": {
    "id": "bf9c8f1f"
   },
   "outputs": [
    {
     "name": "stdout",
     "output_type": "stream",
     "text": [
      "Epoch 1/15\n",
      "1500/1500 [==============================] - 114s 75ms/step - loss: 0.1335 - accuracy: 0.9511 - val_loss: 0.1451 - val_accuracy: 0.9491\n",
      "Epoch 2/15\n",
      "1500/1500 [==============================] - 90s 60ms/step - loss: 0.1269 - accuracy: 0.9537 - val_loss: 0.1514 - val_accuracy: 0.9470\n",
      "Epoch 3/15\n",
      "1500/1500 [==============================] - 97s 65ms/step - loss: 0.1260 - accuracy: 0.9540 - val_loss: 0.1541 - val_accuracy: 0.9473\n",
      "Epoch 4/15\n",
      "1500/1500 [==============================] - 108s 72ms/step - loss: 0.1208 - accuracy: 0.9553 - val_loss: 0.1509 - val_accuracy: 0.9482\n",
      "Epoch 5/15\n",
      "1500/1500 [==============================] - 99s 66ms/step - loss: 0.1149 - accuracy: 0.9568 - val_loss: 0.1610 - val_accuracy: 0.9423\n",
      "Epoch 6/15\n",
      "1500/1500 [==============================] - 99s 66ms/step - loss: 0.1188 - accuracy: 0.9565 - val_loss: 0.1467 - val_accuracy: 0.9495\n",
      "Epoch 7/15\n",
      "1500/1500 [==============================] - 100s 66ms/step - loss: 0.1119 - accuracy: 0.9587 - val_loss: 0.1496 - val_accuracy: 0.9492\n",
      "Epoch 8/15\n",
      "1500/1500 [==============================] - 99s 66ms/step - loss: 0.1082 - accuracy: 0.9602 - val_loss: 0.1413 - val_accuracy: 0.9507\n",
      "Epoch 9/15\n",
      "1500/1500 [==============================] - 99s 66ms/step - loss: 0.1084 - accuracy: 0.9601 - val_loss: 0.1418 - val_accuracy: 0.9490\n",
      "Epoch 10/15\n",
      "1500/1500 [==============================] - 99s 66ms/step - loss: 0.1031 - accuracy: 0.9609 - val_loss: 0.1404 - val_accuracy: 0.9536\n",
      "Epoch 11/15\n",
      "1500/1500 [==============================] - 98s 65ms/step - loss: 0.1023 - accuracy: 0.9634 - val_loss: 0.1517 - val_accuracy: 0.9473\n",
      "Epoch 12/15\n",
      "1500/1500 [==============================] - 100s 67ms/step - loss: 0.0968 - accuracy: 0.9646 - val_loss: 0.1483 - val_accuracy: 0.9513\n",
      "Epoch 13/15\n",
      "1500/1500 [==============================] - 99s 66ms/step - loss: 0.0977 - accuracy: 0.9645 - val_loss: 0.1451 - val_accuracy: 0.9518\n",
      "Epoch 14/15\n",
      "1500/1500 [==============================] - 101s 67ms/step - loss: 0.0946 - accuracy: 0.9649 - val_loss: 0.1475 - val_accuracy: 0.9526\n",
      "Epoch 15/15\n",
      "1500/1500 [==============================] - 100s 66ms/step - loss: 0.0947 - accuracy: 0.9651 - val_loss: 0.1496 - val_accuracy: 0.9508\n"
     ]
    }
   ],
   "source": [
    "hist2 =model2.fit(trainX, trainy, validation_split= 0.20, epochs=15, verbose=1)"
   ]
  },
  {
   "cell_type": "code",
   "execution_count": 28,
   "id": "7f9ebb5d",
   "metadata": {
    "id": "7f9ebb5d"
   },
   "outputs": [
    {
     "name": "stdout",
     "output_type": "stream",
     "text": [
      "313/313 - 7s - loss: 0.1605 - accuracy: 0.9486 - 7s/epoch - 21ms/step\n",
      "Test accuracy:  0.9485999941825867\n"
     ]
    }
   ],
   "source": [
    "test_loss, test_acc = model2.evaluate(testX, testy, verbose=1)\n",
    "print(\"Test accuracy: \", test_acc)\n",
    "test_acc_3Conv2D_adam = test_acc\n",
    "test_loss_3Conv2D_adam = test_loss"
   ]
  },
  {
   "cell_type": "markdown",
   "id": "pIAQy2qHQ70P",
   "metadata": {
    "id": "pIAQy2qHQ70P"
   },
   "source": [
    "## CM3"
   ]
  },
  {
   "cell_type": "markdown",
   "id": "QOATtpQ9Rq9G",
   "metadata": {
    "id": "QOATtpQ9Rq9G"
   },
   "source": [
    "## Runtime performance for training and testing (+in terms of numbers):"
   ]
  },
  {
   "cell_type": "code",
   "execution_count": 69,
   "id": "a4e9a03f",
   "metadata": {
    "id": "a4e9a03f"
   },
   "outputs": [
    {
     "data": {
      "image/png": "[encoded data removed]",
      "text/plain": [
       "<Figure size 432x288 with 1 Axes>"
      ]
     },
     "metadata": {
      "needs_background": "light"
     },
     "output_type": "display_data"
    },
    {
     "data": {
      "image/png": "[encoded data removed]",
      "text/plain": [
       "<Figure size 432x288 with 1 Axes>"
      ]
     },
     "metadata": {
      "needs_background": "light"
     },
     "output_type": "display_data"
    }
   ],
   "source": [
    "# summarize history for accuracy\n",
    "plt.plot(hist2.history['accuracy'])\n",
    "plt.plot(hist2.history['val_accuracy'])\n",
    "plt.ylim(0.8,1)\n",
    "plt.title('Model Accuracy for own network')\n",
    "plt.ylabel('Accuracy')\n",
    "plt.xlabel('Epoch')\n",
    "plt.legend(['Train', 'Validation'], loc='upper left')\n",
    "plt.show()\n",
    "# summarize history for loss\n",
    "plt.plot(hist2.history['loss'])\n",
    "plt.plot(hist2.history['val_loss'])\n",
    "plt.ylim(0,0.5)\n",
    "plt.title('Model Loss for own network')\n",
    "plt.ylabel('Loss')\n",
    "plt.xlabel('Epoch')\n",
    "#plt.ylim(0,1)\n",
    "plt.legend(['Train', 'Validation'], loc='upper left')\n",
    "plt.show()\n"
   ]
  },
  {
   "cell_type": "markdown",
   "id": "6b5fd25c",
   "metadata": {
    "id": "6b5fd25c"
   },
   "source": [
    "## Different Optimizers"
   ]
  },
  {
   "cell_type": "markdown",
   "id": "5f125595",
   "metadata": {
    "id": "5f125595"
   },
   "source": [
    "### 1. SGD"
   ]
  },
  {
   "cell_type": "code",
   "execution_count": 45,
   "id": "7b2affe8",
   "metadata": {
    "id": "7b2affe8"
   },
   "outputs": [],
   "source": [
    "modelSGD = Sequential()\n",
    "modelSGD.add(Conv2D(32, (3, 3), activation='relu',input_shape=(28,28,1), padding = 'same', strides = (1,1), kernel_initializer='he_uniform'))\n",
    "modelSGD.add(MaxPooling2D(2,2))\n",
    "modelSGD.add(Conv2D(32, (3, 3), activation='relu',input_shape=(28,28,1), padding = 'same', strides = (1,1), kernel_initializer='he_uniform'))\n",
    "modelSGD.add(Dropout(0.25))\n",
    "modelSGD.add(Flatten())\n",
    "modelSGD.add(Dense(128, activation='relu'))\n",
    "modelSGD.add(Dense(5, activation='softmax'))"
   ]
  },
  {
   "cell_type": "code",
   "execution_count": 46,
   "id": "52746eea",
   "metadata": {
    "id": "52746eea"
   },
   "outputs": [],
   "source": [
    "modelSGD.compile(optimizer='SGD', loss=\"sparse_categorical_crossentropy\", metrics=['accuracy'])"
   ]
  },
  {
   "cell_type": "code",
   "execution_count": 47,
   "id": "f9d25766",
   "metadata": {
    "id": "f9d25766"
   },
   "outputs": [
    {
     "name": "stdout",
     "output_type": "stream",
     "text": [
      "Epoch 1/15\n",
      "1500/1500 [==============================] - 29s 19ms/step - loss: 0.4287 - accuracy: 0.8411 - val_loss: 0.3253 - val_accuracy: 0.8817\n",
      "Epoch 2/15\n",
      "1500/1500 [==============================] - 28s 19ms/step - loss: 0.3014 - accuracy: 0.8911 - val_loss: 0.2763 - val_accuracy: 0.8997\n",
      "Epoch 3/15\n",
      "1500/1500 [==============================] - 28s 18ms/step - loss: 0.2653 - accuracy: 0.9056 - val_loss: 0.2645 - val_accuracy: 0.9053\n",
      "Epoch 4/15\n",
      "1500/1500 [==============================] - 28s 19ms/step - loss: 0.2424 - accuracy: 0.9137 - val_loss: 0.2350 - val_accuracy: 0.9134\n",
      "Epoch 5/15\n",
      "1500/1500 [==============================] - 28s 19ms/step - loss: 0.2244 - accuracy: 0.9203 - val_loss: 0.2381 - val_accuracy: 0.9134\n",
      "Epoch 6/15\n",
      "1500/1500 [==============================] - 29s 19ms/step - loss: 0.2120 - accuracy: 0.9246 - val_loss: 0.2143 - val_accuracy: 0.9237\n",
      "Epoch 7/15\n",
      "1500/1500 [==============================] - 31s 20ms/step - loss: 0.2022 - accuracy: 0.9276 - val_loss: 0.2070 - val_accuracy: 0.9248\n",
      "Epoch 8/15\n",
      "1500/1500 [==============================] - 28s 19ms/step - loss: 0.1937 - accuracy: 0.9309 - val_loss: 0.2053 - val_accuracy: 0.9268\n",
      "Epoch 9/15\n",
      "1500/1500 [==============================] - 28s 19ms/step - loss: 0.1854 - accuracy: 0.9331 - val_loss: 0.1951 - val_accuracy: 0.9308\n",
      "Epoch 10/15\n",
      "1500/1500 [==============================] - 29s 19ms/step - loss: 0.1778 - accuracy: 0.9358 - val_loss: 0.1896 - val_accuracy: 0.9328\n",
      "Epoch 11/15\n",
      "1500/1500 [==============================] - 30s 20ms/step - loss: 0.1716 - accuracy: 0.9373 - val_loss: 0.1954 - val_accuracy: 0.9314\n",
      "Epoch 12/15\n",
      "1500/1500 [==============================] - 28s 19ms/step - loss: 0.1659 - accuracy: 0.9401 - val_loss: 0.1927 - val_accuracy: 0.9310\n",
      "Epoch 13/15\n",
      "1500/1500 [==============================] - 28s 19ms/step - loss: 0.1586 - accuracy: 0.9425 - val_loss: 0.1779 - val_accuracy: 0.9352\n",
      "Epoch 14/15\n",
      "1500/1500 [==============================] - 28s 19ms/step - loss: 0.1540 - accuracy: 0.9455 - val_loss: 0.1777 - val_accuracy: 0.9367\n",
      "Epoch 15/15\n",
      "1500/1500 [==============================] - 29s 19ms/step - loss: 0.1470 - accuracy: 0.9476 - val_loss: 0.1765 - val_accuracy: 0.9373\n"
     ]
    }
   ],
   "source": [
    "histSGD =modelSGD.fit(trainX, trainy, validation_split = 0.20, epochs=15, verbose=1)"
   ]
  },
  {
   "cell_type": "code",
   "execution_count": 48,
   "id": "869d0585",
   "metadata": {
    "id": "869d0585"
   },
   "outputs": [
    {
     "name": "stdout",
     "output_type": "stream",
     "text": [
      "313/313 - 2s - loss: 0.1927 - accuracy: 0.9335 - 2s/epoch - 8ms/step\n",
      "Test accuracy:  0.9334999918937683\n"
     ]
    }
   ],
   "source": [
    "test_loss, test_acc = modelSGD.evaluate(testX, testy, verbose=1)\n",
    "print(\"Test accuracy: \", test_acc)\n",
    "test_acc_1Conv2D_SGD = test_acc\n",
    "test_loss_1Conv2D_SGD = test_loss"
   ]
  },
  {
   "cell_type": "code",
   "execution_count": 49,
   "id": "c5f20a94",
   "metadata": {},
   "outputs": [
    {
     "data": {
      "image/png": "[encoded data removed]",
      "text/plain": [
       "<Figure size 432x288 with 1 Axes>"
      ]
     },
     "metadata": {
      "needs_background": "light"
     },
     "output_type": "display_data"
    },
    {
     "data": {
      "image/png": "[encoded data removed]",
      "text/plain": [
       "<Figure size 432x288 with 1 Axes>"
      ]
     },
     "metadata": {
      "needs_background": "light"
     },
     "output_type": "display_data"
    }
   ],
   "source": [
    "# summarize history for accuracy\n",
    "plt.plot(histSGD.history['accuracy'])\n",
    "plt.plot(histSGD.history['val_accuracy'])\n",
    "plt.ylim(0.8,1)\n",
    "plt.title('Model Accuracy for SGD optimizer')\n",
    "plt.ylabel('Accuracy')\n",
    "plt.xlabel('Epoch')\n",
    "plt.legend(['Train', 'Validation'], loc='upper left')\n",
    "plt.show()\n",
    "# summarize history for loss\n",
    "plt.plot(histSGD.history['loss'])\n",
    "plt.plot(histSGD.history['val_loss'])\n",
    "plt.ylim(0,0.5)\n",
    "plt.title('Model Loss for SGD optimizer')\n",
    "plt.ylabel('Loss')\n",
    "plt.xlabel('Epoch')\n",
    "#plt.ylim(0,1)\n",
    "plt.legend(['Train', 'Validation'], loc='upper left')\n",
    "plt.show()"
   ]
  },
  {
   "cell_type": "markdown",
   "id": "8cec8ea7",
   "metadata": {
    "id": "8cec8ea7"
   },
   "source": [
    "### 2. RMSprop"
   ]
  },
  {
   "cell_type": "code",
   "execution_count": 52,
   "id": "d60a6697",
   "metadata": {
    "id": "d60a6697"
   },
   "outputs": [],
   "source": [
    "modelRMS = Sequential()\n",
    "modelRMS.add(Conv2D(32, (3, 3), activation='relu',input_shape=(28,28,1), padding = 'same', strides = (1,1), kernel_initializer='he_uniform'))\n",
    "modelRMS.add(MaxPooling2D(2,2))\n",
    "modelRMS.add(Conv2D(32, (3, 3), activation='relu',input_shape=(28,28,1), padding = 'same', strides = (1,1), kernel_initializer='he_uniform'))\n",
    "modelRMS.add(Dropout(0.25))\n",
    "modelRMS.add(Flatten())\n",
    "modelRMS.add(Dense(128, activation='relu'))\n",
    "modelRMS.add(Dense(5, activation='softmax'))"
   ]
  },
  {
   "cell_type": "code",
   "execution_count": 53,
   "id": "26deb092",
   "metadata": {
    "id": "26deb092"
   },
   "outputs": [],
   "source": [
    "modelRMS.compile(optimizer='RMSprop', loss=\"sparse_categorical_crossentropy\", metrics=['accuracy'])"
   ]
  },
  {
   "cell_type": "code",
   "execution_count": 55,
   "id": "495741d7",
   "metadata": {
    "id": "495741d7"
   },
   "outputs": [
    {
     "name": "stdout",
     "output_type": "stream",
     "text": [
      "Epoch 1/15\n",
      "1500/1500 [==============================] - 34s 22ms/step - loss: 0.2991 - accuracy: 0.8931 - val_loss: 0.2719 - val_accuracy: 0.9065\n",
      "Epoch 2/15\n",
      "1500/1500 [==============================] - 33s 22ms/step - loss: 0.2312 - accuracy: 0.9188 - val_loss: 0.2405 - val_accuracy: 0.9120\n",
      "Epoch 3/15\n",
      "1500/1500 [==============================] - 32s 21ms/step - loss: 0.2086 - accuracy: 0.9272 - val_loss: 0.2009 - val_accuracy: 0.9288\n",
      "Epoch 4/15\n",
      "1500/1500 [==============================] - 33s 22ms/step - loss: 0.1985 - accuracy: 0.9331 - val_loss: 0.2424 - val_accuracy: 0.9205\n",
      "Epoch 5/15\n",
      "1500/1500 [==============================] - 32s 21ms/step - loss: 0.1919 - accuracy: 0.9362 - val_loss: 0.2240 - val_accuracy: 0.9235\n",
      "Epoch 6/15\n",
      "1500/1500 [==============================] - 31s 21ms/step - loss: 0.1884 - accuracy: 0.9371 - val_loss: 0.1960 - val_accuracy: 0.9358\n",
      "Epoch 7/15\n",
      "1500/1500 [==============================] - 32s 22ms/step - loss: 0.1851 - accuracy: 0.9373 - val_loss: 0.1976 - val_accuracy: 0.9339\n",
      "Epoch 8/15\n",
      "1500/1500 [==============================] - 34s 23ms/step - loss: 0.1871 - accuracy: 0.9388 - val_loss: 0.1991 - val_accuracy: 0.9346\n",
      "Epoch 9/15\n",
      "1500/1500 [==============================] - 33s 22ms/step - loss: 0.1883 - accuracy: 0.9393 - val_loss: 0.2199 - val_accuracy: 0.9303\n",
      "Epoch 10/15\n",
      "1500/1500 [==============================] - 34s 23ms/step - loss: 0.1879 - accuracy: 0.9390 - val_loss: 0.2177 - val_accuracy: 0.9366\n",
      "Epoch 11/15\n",
      "1500/1500 [==============================] - 34s 22ms/step - loss: 0.1905 - accuracy: 0.9382 - val_loss: 0.2370 - val_accuracy: 0.9354\n",
      "Epoch 12/15\n",
      "1500/1500 [==============================] - 33s 22ms/step - loss: 0.1893 - accuracy: 0.9391 - val_loss: 0.2246 - val_accuracy: 0.9277\n",
      "Epoch 13/15\n",
      "1500/1500 [==============================] - 31s 21ms/step - loss: 0.1847 - accuracy: 0.9402 - val_loss: 0.2066 - val_accuracy: 0.9360\n",
      "Epoch 14/15\n",
      "1500/1500 [==============================] - 31s 21ms/step - loss: 0.1864 - accuracy: 0.9404 - val_loss: 0.2114 - val_accuracy: 0.9341\n",
      "Epoch 15/15\n",
      "1500/1500 [==============================] - 32s 21ms/step - loss: 0.1795 - accuracy: 0.9407 - val_loss: 0.2480 - val_accuracy: 0.9328\n"
     ]
    }
   ],
   "source": [
    "histRMS =modelRMS.fit(trainX, trainy, validation_split= 0.20, epochs=15, verbose=1)"
   ]
  },
  {
   "cell_type": "code",
   "execution_count": 56,
   "id": "f7d4d78a",
   "metadata": {
    "id": "f7d4d78a"
   },
   "outputs": [
    {
     "name": "stdout",
     "output_type": "stream",
     "text": [
      "313/313 - 2s - loss: 0.2670 - accuracy: 0.9270 - 2s/epoch - 8ms/step\n",
      "Test accuracy:  0.9269999861717224\n"
     ]
    }
   ],
   "source": [
    "test_loss, test_acc = modelRMS.evaluate(testX, testy, verbose=1)\n",
    "print(\"Test accuracy: \", test_acc)\n",
    "test_acc_1Conv2D_RMS = test_acc\n",
    "test_loss_1Conv2D_RMS = test_loss"
   ]
  },
  {
   "cell_type": "code",
   "execution_count": 57,
   "id": "10d839ab",
   "metadata": {},
   "outputs": [
    {
     "data": {
      "image/png": "[encoded data removed]",
      "text/plain": [
       "<Figure size 432x288 with 1 Axes>"
      ]
     },
     "metadata": {
      "needs_background": "light"
     },
     "output_type": "display_data"
    },
    {
     "data": {
      "image/png": "[encoded data removed]",
      "text/plain": [
       "<Figure size 432x288 with 1 Axes>"
      ]
     },
     "metadata": {
      "needs_background": "light"
     },
     "output_type": "display_data"
    }
   ],
   "source": [
    "print(\"\")\n",
    "# summarize history for accuracy\n",
    "plt.plot(histRMS.history['accuracy'])\n",
    "plt.plot(histRMS.history['val_accuracy'])\n",
    "plt.ylim(0.8,1)\n",
    "plt.title('Model Accuracy for RMSprop optimizer')\n",
    "plt.ylabel('Accuracy')\n",
    "plt.xlabel('Epoch')\n",
    "plt.legend(['Train', 'Validation'], loc='upper left')\n",
    "plt.show()\n",
    "# summarize history for loss\n",
    "plt.plot(histRMS.history['loss'])\n",
    "plt.plot(histRMS.history['val_loss'])\n",
    "plt.ylim(0,0.5)\n",
    "plt.title('Model Loss for RMSprop optimizer')\n",
    "plt.ylabel('Loss')\n",
    "plt.xlabel('Epoch')\n",
    "#plt.ylim(0,1)\n",
    "plt.legend(['Train', 'Validation'], loc='upper left')\n",
    "plt.show()\n"
   ]
  },
  {
   "cell_type": "markdown",
   "id": "7ed8f787",
   "metadata": {
    "id": "7ed8f787"
   },
   "source": [
    "### Comparison for accuracy and loss of different models"
   ]
  },
  {
   "cell_type": "code",
   "execution_count": 63,
   "id": "a3db4917",
   "metadata": {
    "id": "a3db4917"
   },
   "outputs": [
    {
     "name": "stdout",
     "output_type": "stream",
     "text": [
      "Comparison for accuracy and loss for different models\n"
     ]
    },
    {
     "data": {
      "text/html": [
       "<div>\n",
       "<style scoped>\n",
       "    .dataframe tbody tr th:only-of-type {\n",
       "        vertical-align: middle;\n",
       "    }\n",
       "\n",
       "    .dataframe tbody tr th {\n",
       "        vertical-align: top;\n",
       "    }\n",
       "\n",
       "    .dataframe thead th {\n",
       "        text-align: right;\n",
       "    }\n",
       "</style>\n",
       "<table border=\"1\" class=\"dataframe\">\n",
       "  <thead>\n",
       "    <tr style=\"text-align: right;\">\n",
       "      <th></th>\n",
       "      <th>Models</th>\n",
       "      <th>Test Accuracy</th>\n",
       "    </tr>\n",
       "  </thead>\n",
       "  <tbody>\n",
       "    <tr>\n",
       "      <th>0</th>\n",
       "      <td>Default Model</td>\n",
       "      <td>92.490000</td>\n",
       "    </tr>\n",
       "    <tr>\n",
       "      <th>1</th>\n",
       "      <td>Own Network Model</td>\n",
       "      <td>94.859999</td>\n",
       "    </tr>\n",
       "    <tr>\n",
       "      <th>2</th>\n",
       "      <td>Model SGD</td>\n",
       "      <td>93.349999</td>\n",
       "    </tr>\n",
       "    <tr>\n",
       "      <th>3</th>\n",
       "      <td>Model RMSprop</td>\n",
       "      <td>92.699999</td>\n",
       "    </tr>\n",
       "  </tbody>\n",
       "</table>\n",
       "</div>"
      ],
      "text/plain": [
       "              Models  Test Accuracy\n",
       "0      Default Model      92.490000\n",
       "1  Own Network Model      94.859999\n",
       "2          Model SGD      93.349999\n",
       "3      Model RMSprop      92.699999"
      ]
     },
     "execution_count": 63,
     "metadata": {},
     "output_type": "execute_result"
    }
   ],
   "source": [
    "comparison = pd.DataFrame({\"Models\": [], \\\n",
    "                           \"Test Accuracy\": []})\n",
    "#comparison.loc[len(comparison.index)] = [\"Model\", test_acc_1Conv2D_Simple*100]\n",
    "comparison.loc[len(comparison.index)] = [\"Default Model\", test_acc_1Conv2D_Simple*100]\n",
    "comparison.loc[len(comparison.index)] = [\"Own Network Model\", test_acc_3Conv2D_adam*100]\n",
    "comparison.loc[len(comparison.index)] = [\"Model SGD\", test_acc_1Conv2D_SGD*100]\n",
    "comparison.loc[len(comparison.index)] = [\"Model RMSprop\", test_acc_1Conv2D_RMS*100]\n",
    "\n",
    "print(\"Comparison for accuracy and loss for different models\")\n",
    "comparison"
   ]
  },
  {
   "cell_type": "markdown",
   "id": "5d345931",
   "metadata": {
    "id": "5d345931"
   },
   "source": [
    "Clearly the best model is the Model Adam with 1 CNN with the highest accuracy : 93.769997"
   ]
  },
  {
   "cell_type": "code",
   "execution_count": null,
   "id": "9d34b22f",
   "metadata": {
    "id": "9d34b22f"
   },
   "outputs": [],
   "source": [
    "#Changed hist1 to hist\n",
    "train_loss=np.mean(hist.history['loss'])\n",
    "val_loss=np.mean(hist.history['val_loss'])\n",
    "train_acc=np.mean(hist.history['accuracy'])\n",
    "val_acc=np.mean(hist.history['val_accuracy'])\n",
    "print(\"Train accuracy for the best model is : \", train_acc)\n",
    "print(\"Train loss for the best model is : \", train_loss)\n",
    "print(\"Validation accuracy for the best model is : \", val_acc)\n",
    "print(\"Validation loss for the best model is : \", val_loss)\n",
    "# print(\"Test accuracy for the best model is : \", test_acc_1Conv2D_adam1)\n",
    "# print(\"Test loss for the best model is : \", test_loss_1Conv2D_adam1)"
   ]
  },
  {
   "cell_type": "code",
   "execution_count": null,
   "id": "f1bbcd09",
   "metadata": {
    "id": "f1bbcd09"
   },
   "outputs": [],
   "source": [
    "print(\"1 layer Conv2D and 1 dense output layer\")\n",
    "print(\"Test accuracy for the model with 1 layer Conv2D and 1 dense output layer is : \", test_acc_1Conv2D_Simple)\n",
    "print(\"Test loss for the model with 1 layer Conv2D and 1 dense output layer is : \", test_loss_1Conv2D_Simple)\n",
    "print(\"\")\n",
    "print(\"BEST MODEL-1 layer Conv2D ,1 dense layer and 1 dense output layer\")\n",
    "# print(\"Test accuracy for the model with 1 layer Conv2D ,1 dense layer and 1 dense output layer is : \", test_acc_1Conv2D_adam1)\n",
    "# print(\"Test loss for the model with 1 layer Conv2D ,1 dense layer and 1 dense output layer is : \", test_loss_1Conv2D_adam1)\n",
    "print(\"\")\n",
    "print(\"3 layer Conv2D ,1 dense layer and 1 dense output layer\")\n",
    "print(\"Test accuracy for the model with 3 layer Conv2D ,1 dense layer and 1 dense output layer is : \", test_acc_3Conv2D_adam)\n",
    "print(\"Test loss for the model with 3 layer Conv2D ,1 dense layer and 1 dense output layer is : \", test_loss_3Conv2D_adam)"
   ]
  },
  {
   "cell_type": "markdown",
   "id": "f1ca45c9",
   "metadata": {
    "id": "f1ca45c9"
   },
   "source": []
  },
  {
   "cell_type": "code",
   "execution_count": null,
   "id": "6d819c5f",
   "metadata": {
    "id": "6d819c5f"
   },
   "outputs": [],
   "source": [
    "# print(\"Adam\")\n",
    "# print(\"Test accuracy: \", test_acc_1Conv2D_adam1)\n",
    "# print(\"Test loss: \", test_loss_1Conv2D_adam1)\n",
    "print(\"\")\n",
    "print(\"SGD\")\n",
    "print(\"Test accuracy: \", test_acc_1Conv2D_SGD)\n",
    "print(\"Test loss: \", test_loss_1Conv2D_SGD)\n",
    "print(\"\")\n",
    "print(\"RMSprop\")\n",
    "print(\"Test accuracy: \", test_acc_1Conv2D_RMS)\n",
    "print(\"Test loss: \", test_loss_1Conv2D_RMS)"
   ]
  },
  {
   "cell_type": "code",
   "execution_count": null,
   "id": "f9b8bba1",
   "metadata": {
    "id": "f9b8bba1"
   },
   "outputs": [],
   "source": [
    "print(\"BEST MODEL-1 layer Conv2D ,1 dense layer and 1 dense output layer\")\n",
    "print(\"Training set\")\n",
    "# summarize history for accuracy\n",
    "plt.plot(hist1.history['accuracy'])\n",
    "plt.plot(hist1.history['val_accuracy'])\n",
    "plt.title('model accuracy')\n",
    "plt.ylabel('accuracy')\n",
    "plt.xlabel('epoch')\n",
    "plt.legend(['train', 'val'], loc='upper left')\n",
    "plt.show()\n",
    "# summarize history for loss\n",
    "plt.plot(hist1.history['loss'])\n",
    "plt.plot(hist1.history['val_loss'])\n",
    "plt.title('model loss')\n",
    "plt.ylabel('loss')\n",
    "plt.xlabel('epoch')\n",
    "plt.legend(['train', 'val'], loc='upper left')\n",
    "plt.show()"
   ]
  },
  {
   "cell_type": "markdown",
   "id": "657e2cb7",
   "metadata": {
    "id": "657e2cb7"
   },
   "source": [
    "# CM4"
   ]
  },
  {
   "cell_type": "code",
   "execution_count": null,
   "id": "401f246b",
   "metadata": {
    "id": "401f246b"
   },
   "outputs": [],
   "source": [
    "# Changed model1 to model\n",
    "extractor = keras.Model(inputs=model.inputs,\n",
    "                        outputs= model.layers[-1].output)"
   ]
  },
  {
   "cell_type": "code",
   "execution_count": null,
   "id": "Z7kdY0VLIQlq",
   "metadata": {
    "id": "Z7kdY0VLIQlq"
   },
   "outputs": [],
   "source": [
    "features = pd.DataFrame(extractor(testX[:1000]).numpy())"
   ]
  },
  {
   "cell_type": "code",
   "execution_count": null,
   "id": "mWtLCHAWISYn",
   "metadata": {
    "id": "mWtLCHAWISYn"
   },
   "outputs": [],
   "source": [
    "for i in range(1,int(len(testX)/1000)):\n",
    "    temp = pd.DataFrame(extractor(testX[i*1000:(i+1)*1000]).numpy())\n",
    "    features = features.append(temp, ignore_index=True)"
   ]
  },
  {
   "cell_type": "code",
   "execution_count": null,
   "id": "pVKfJneiIcM3",
   "metadata": {
    "id": "pVKfJneiIcM3"
   },
   "outputs": [],
   "source": [
    "features.columns"
   ]
  }
 ],
 "metadata": {
  "accelerator": "GPU",
  "colab": {
   "name": "Assignment 3.ipynb",
   "private_outputs": true,
   "provenance": []
  },
  "kernelspec": {
   "display_name": "Python 3",
   "language": "python",
   "name": "python3"
  },
  "language_info": {
   "codemirror_mode": {
    "name": "ipython",
    "version": 3
   },
   "file_extension": ".py",
   "mimetype": "text/x-python",
   "name": "python",
   "nbconvert_exporter": "python",
   "pygments_lexer": "ipython3",
   "version": "3.8.8"
  }
 },
 "nbformat": 4,
 "nbformat_minor": 5
}
